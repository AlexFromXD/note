{
 "cells": [
  {
   "cell_type": "code",
   "execution_count": 11,
   "metadata": {},
   "outputs": [
    {
     "name": "stderr",
     "output_type": "stream",
     "text": [
      "Building prefix dict from the default dictionary ...\n",
      "Loading model from cache /var/folders/12/2ws31bxs6mz7g1vzfnx8wrpm0000gn/T/jieba.cache\n",
      "Loading model cost 0.344 seconds.\n",
      "Prefix dict has been built successfully.\n"
     ]
    }
   ],
   "source": [
    "# Prepare the data\n",
    "\n",
    "import jieba\n",
    "\n",
    "titles = [\n",
    "    \"失戀自救手冊\",\n",
    "    \"新聞真假掰｜假訊息ByeBye！\",\n",
    "    \"聽鉅子騷，我的私房鬼事\",\n",
    "    \"冰角新聞\",\n",
    "    \"實用色素——女性向成人音聲\",\n",
    "    \"南波囡仔\",\n",
    "    \"故弄玄虛\",\n",
    "    \"一起說故事\",\n",
    "    \"豬探長推理故事集\",\n",
    "    \"從前從前\",\n",
    "    \"唐陽雞酒屋\",\n",
    "    \"偷聽史多利 Talking Story\",\n",
    "    \"博音\",\n",
    "    \"媽爹講故事\",\n",
    "    \"Xuwen music\",\n",
    "    \"哇賽心理學\",\n",
    "    \"呱呱呱樂園｜ガーガー\",\n",
    "    \"第一次聽見 Sonic Secret\",\n",
    "    \"艾比麻麻說故事\",\n",
    "    \"金剛經講要~中道佛學會\"\n",
    "]\n",
    "\n",
    "seg_titles = []\n",
    "for title in titles:\n",
    "    seg = jieba.cut(title, use_paddle=True)\n",
    "    seg_titles.append(' '.join(list(seg)))"
   ]
  },
  {
   "cell_type": "code",
   "execution_count": null,
   "metadata": {},
   "outputs": [],
   "source": [
    "from opensearchpy import OpenSearch\n",
    "\n",
    "client = OpenSearch(\n",
    "    hosts=[\"http://localhost:9200/\"],\n",
    "    http_auth=(\"admin\", \"admin\")\n",
    ")"
   ]
  },
  {
   "cell_type": "code",
   "execution_count": null,
   "metadata": {},
   "outputs": [],
   "source": [
    "# create index\n",
    "index_name = \"podcast_titles\"\n",
    "client.indices.create(\n",
    "    index=index_name,\n",
    "    body={\n",
    "        \"settings\": {\n",
    "            \"analysis\": {\n",
    "                \"analyzer\": {\n",
    "                    \"whitespace\": {\n",
    "                        \"type\": \"whitespace\"\n",
    "                    }\n",
    "                }\n",
    "            }\n",
    "        },\n",
    "        \"mappings\": {\n",
    "            \"properties\": {\n",
    "                \"title\": {\n",
    "                    \"type\": \"text\",\n",
    "                    \"analyzer\": \"whitespace\"\n",
    "                }\n",
    "            }\n",
    "        }\n",
    "    }\n",
    ")"
   ]
  },
  {
   "cell_type": "code",
   "execution_count": null,
   "metadata": {},
   "outputs": [],
   "source": [
    "# insert data\n",
    "for seg in seg_titles:\n",
    "    client.index(index=index_name, body={\"title\": seg})"
   ]
  },
  {
   "cell_type": "code",
   "execution_count": 47,
   "metadata": {},
   "outputs": [
    {
     "data": {
      "text/plain": [
       "{'took': 5,\n",
       " 'timed_out': False,\n",
       " '_shards': {'total': 1, 'successful': 1, 'skipped': 0, 'failed': 0},\n",
       " 'hits': {'total': {'value': 2, 'relation': 'eq'},\n",
       "  'max_score': 2.6489527,\n",
       "  'hits': [{'_index': 'podcast_titles',\n",
       "    '_id': '1liYeYYBx2gTipBlsFjv',\n",
       "    '_score': 2.6489527,\n",
       "    '_source': {'title': '冰角 新聞'}},\n",
       "   {'_index': 'podcast_titles',\n",
       "    '_id': '1FiYeYYBx2gTipBlsFjX',\n",
       "    '_score': 1.5945265,\n",
       "    '_source': {'title': '新聞 真假 掰 ｜ 假訊息 ByeBye ！'}}]}}"
      ]
     },
     "execution_count": 47,
     "metadata": {},
     "output_type": "execute_result"
    }
   ],
   "source": [
    "# search result\n",
    "client.search(\n",
    "    index=index_name,\n",
    "    body={\n",
    "        \"query\": {\n",
    "            \"match\": {\n",
    "                \"title\": {\n",
    "                    \"query\": \"新聞\"\n",
    "                }\n",
    "            }\n",
    "        }\n",
    "    }\n",
    ")"
   ]
  },
  {
   "cell_type": "code",
   "execution_count": null,
   "metadata": {},
   "outputs": [],
   "source": [
    "# we always have the second chance\n",
    "# client.indices.delete(index=\"index_name\")"
   ]
  }
 ],
 "metadata": {
  "kernelspec": {
   "display_name": "Python 3 (ipykernel)",
   "language": "python",
   "name": "python3"
  },
  "language_info": {
   "codemirror_mode": {
    "name": "ipython",
    "version": 3
   },
   "file_extension": ".py",
   "mimetype": "text/x-python",
   "name": "python",
   "nbconvert_exporter": "python",
   "pygments_lexer": "ipython3",
   "version": "3.9.6"
  },
  "vscode": {
   "interpreter": {
    "hash": "31f2aee4e71d21fbe5cf8b01ff0e069b9275f58929596ceb00d14d90e3e16cd6"
   }
  }
 },
 "nbformat": 4,
 "nbformat_minor": 2
}
